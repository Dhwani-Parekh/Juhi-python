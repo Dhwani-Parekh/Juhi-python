{
 "cells": [
  {
   "cell_type": "code",
   "execution_count": 1,
   "metadata": {
    "collapsed": true
   },
   "outputs": [],
   "source": [
    "import pandas as pd"
   ]
  },
  {
   "cell_type": "markdown",
   "metadata": {},
   "source": [
    "## Objective:\n",
    "Analyze Market Share trends by Cities (Mumbai, Bangalore, Delhi, Chennai, Kolkata, Hyderabad)\n",
    "\n",
    "To understand the churn pattern of users i.e. in which states/cities we are seeing a major movement of users to other carriers\n",
    "\n",
    "Comparison of the top 10 pin codes, where Airtel has lost market share in this period and other operators like Reliance Jio has witnessed a significant surge\n",
    "\n",
    "Suggest a distinctive strategy for Airtel to retain its users across 3 different states\n",
    "\n",
    "Specify the assumptions taken during the analysis\n",
    "\n",
    "## Data Dictionary:\n",
    "date: Date of which the record is captured\n",
    "\n",
    "udid: Unique identifier of the user/customer\n",
    "\n",
    "\n",
    "Operator: Mobile operator of the user\n",
    "\n",
    "State: State where the user is spotted on that day\n",
    "\n",
    "City: City where the user is spotted on that day\n",
    "\n",
    "zipcode: ZIP where the user is spotted on that day\n",
    "\n",
    "Ad_Requests: Mobile traffic in terms of ad-requests reflects user's quantitative activity on that day using that operator\n"
   ]
  },
  {
   "cell_type": "code",
   "execution_count": null,
   "metadata": {
    "collapsed": true
   },
   "outputs": [],
   "source": []
  },
  {
   "cell_type": "code",
   "execution_count": 3,
   "metadata": {},
   "outputs": [],
   "source": [
    "data = pd.read_csv('../Data/rawdata.csv')"
   ]
  },
  {
   "cell_type": "code",
   "execution_count": 4,
   "metadata": {},
   "outputs": [
    {
     "data": {
      "text/html": [
       "<div>\n",
       "<table border=\"1\" class=\"dataframe\">\n",
       "  <thead>\n",
       "    <tr style=\"text-align: right;\">\n",
       "      <th></th>\n",
       "      <th>date</th>\n",
       "      <th>udid</th>\n",
       "      <th>operator</th>\n",
       "      <th>state</th>\n",
       "      <th>city</th>\n",
       "      <th>zipcode</th>\n",
       "      <th>ad_requests</th>\n",
       "    </tr>\n",
       "  </thead>\n",
       "  <tbody>\n",
       "    <tr>\n",
       "      <th>0</th>\n",
       "      <td>2018-04-15</td>\n",
       "      <td>00000902bb5bea2d8f865e1c6b0ace6abf6725d7</td>\n",
       "      <td>Jio</td>\n",
       "      <td>TAMIL NADU</td>\n",
       "      <td>PALANI</td>\n",
       "      <td>624601</td>\n",
       "      <td>1</td>\n",
       "    </tr>\n",
       "    <tr>\n",
       "      <th>1</th>\n",
       "      <td>2018-05-15</td>\n",
       "      <td>00002cd8fd6d3ae94d385102c85d40870430bed3</td>\n",
       "      <td>Vodafone Essar</td>\n",
       "      <td>GUJARAT</td>\n",
       "      <td>AHMEDABAD</td>\n",
       "      <td>380014</td>\n",
       "      <td>3</td>\n",
       "    </tr>\n",
       "    <tr>\n",
       "      <th>2</th>\n",
       "      <td>2018-05-15</td>\n",
       "      <td>0000c379b9f8c3476e3fb7e86ec0b8ccc3f6b90c</td>\n",
       "      <td>Jio</td>\n",
       "      <td>UTTAR PRADESH</td>\n",
       "      <td>CHANDAULI</td>\n",
       "      <td>232101</td>\n",
       "      <td>2</td>\n",
       "    </tr>\n",
       "    <tr>\n",
       "      <th>3</th>\n",
       "      <td>2018-04-15</td>\n",
       "      <td>0001265ed98b8c1ac1f208e68a05ebcd501aca8b</td>\n",
       "      <td>Jio</td>\n",
       "      <td>ASSAM</td>\n",
       "      <td>NORTH GUWAHATI</td>\n",
       "      <td>781008</td>\n",
       "      <td>77</td>\n",
       "    </tr>\n",
       "    <tr>\n",
       "      <th>4</th>\n",
       "      <td>2018-05-15</td>\n",
       "      <td>0001cbb4b1428ad3f0175532b8c8e2b108f32d08</td>\n",
       "      <td>Jio</td>\n",
       "      <td>KARNATAKA</td>\n",
       "      <td>BANGALORE</td>\n",
       "      <td>560066</td>\n",
       "      <td>6</td>\n",
       "    </tr>\n",
       "  </tbody>\n",
       "</table>\n",
       "</div>"
      ],
      "text/plain": [
       "         date                                      udid        operator  \\\n",
       "0  2018-04-15  00000902bb5bea2d8f865e1c6b0ace6abf6725d7             Jio   \n",
       "1  2018-05-15  00002cd8fd6d3ae94d385102c85d40870430bed3  Vodafone Essar   \n",
       "2  2018-05-15  0000c379b9f8c3476e3fb7e86ec0b8ccc3f6b90c             Jio   \n",
       "3  2018-04-15  0001265ed98b8c1ac1f208e68a05ebcd501aca8b             Jio   \n",
       "4  2018-05-15  0001cbb4b1428ad3f0175532b8c8e2b108f32d08             Jio   \n",
       "\n",
       "           state            city  zipcode  ad_requests  \n",
       "0     TAMIL NADU          PALANI   624601            1  \n",
       "1        GUJARAT       AHMEDABAD   380014            3  \n",
       "2  UTTAR PRADESH       CHANDAULI   232101            2  \n",
       "3          ASSAM  NORTH GUWAHATI   781008           77  \n",
       "4      KARNATAKA       BANGALORE   560066            6  "
      ]
     },
     "execution_count": 4,
     "metadata": {},
     "output_type": "execute_result"
    }
   ],
   "source": [
    "data.head()"
   ]
  },
  {
   "cell_type": "code",
   "execution_count": 7,
   "metadata": {},
   "outputs": [
    {
     "data": {
      "text/plain": [
       "130320337"
      ]
     },
     "execution_count": 7,
     "metadata": {},
     "output_type": "execute_result"
    }
   ],
   "source": [
    "data.size"
   ]
  },
  {
   "cell_type": "code",
   "execution_count": 81,
   "metadata": {},
   "outputs": [
    {
     "data": {
      "text/html": [
       "<div>\n",
       "<table border=\"1\" class=\"dataframe\">\n",
       "  <thead>\n",
       "    <tr style=\"text-align: right;\">\n",
       "      <th></th>\n",
       "      <th>date</th>\n",
       "      <th>udid</th>\n",
       "      <th>operator</th>\n",
       "      <th>state</th>\n",
       "      <th>city</th>\n",
       "      <th>zipcode</th>\n",
       "      <th>ad_requests</th>\n",
       "    </tr>\n",
       "  </thead>\n",
       "  <tbody>\n",
       "    <tr>\n",
       "      <th>52</th>\n",
       "      <td>2018-04-15</td>\n",
       "      <td>00147352f98b70c4d814a7fa0851d861a09540e9</td>\n",
       "      <td>Idea</td>\n",
       "      <td>GUJARAT</td>\n",
       "      <td>RAJKOT</td>\n",
       "      <td>360007</td>\n",
       "      <td>4</td>\n",
       "    </tr>\n",
       "    <tr>\n",
       "      <th>16942594</th>\n",
       "      <td>2018-05-15</td>\n",
       "      <td>00147352f98b70c4d814a7fa0851d861a09540e9</td>\n",
       "      <td>Jio</td>\n",
       "      <td>GUJARAT</td>\n",
       "      <td>RAJKOT</td>\n",
       "      <td>360007</td>\n",
       "      <td>7</td>\n",
       "    </tr>\n",
       "  </tbody>\n",
       "</table>\n",
       "</div>"
      ],
      "text/plain": [
       "                date                                      udid operator  \\\n",
       "52        2018-04-15  00147352f98b70c4d814a7fa0851d861a09540e9     Idea   \n",
       "16942594  2018-05-15  00147352f98b70c4d814a7fa0851d861a09540e9      Jio   \n",
       "\n",
       "            state    city  zipcode  ad_requests  \n",
       "52        GUJARAT  RAJKOT   360007            4  \n",
       "16942594  GUJARAT  RAJKOT   360007            7  "
      ]
     },
     "execution_count": 81,
     "metadata": {},
     "output_type": "execute_result"
    }
   ],
   "source": [
    "data[data['udid'] == '00147352f98b70c4d814a7fa0851d861a09540e9']"
   ]
  },
  {
   "cell_type": "code",
   "execution_count": null,
   "metadata": {
    "collapsed": true
   },
   "outputs": [],
   "source": []
  },
  {
   "cell_type": "markdown",
   "metadata": {},
   "source": [
    "## Churn pattern"
   ]
  },
  {
   "cell_type": "code",
   "execution_count": 5,
   "metadata": {},
   "outputs": [
    {
     "name": "stdout",
     "output_type": "stream",
     "text": [
      "68976844\n"
     ]
    },
    {
     "data": {
      "text/html": [
       "<div>\n",
       "<table border=\"1\" class=\"dataframe\">\n",
       "  <thead>\n",
       "    <tr style=\"text-align: right;\">\n",
       "      <th></th>\n",
       "      <th>date</th>\n",
       "      <th>udid</th>\n",
       "      <th>operator</th>\n",
       "      <th>state</th>\n",
       "    </tr>\n",
       "  </thead>\n",
       "  <tbody>\n",
       "    <tr>\n",
       "      <th>0</th>\n",
       "      <td>2018-04-15</td>\n",
       "      <td>00000902bb5bea2d8f865e1c6b0ace6abf6725d7</td>\n",
       "      <td>Jio</td>\n",
       "      <td>TAMIL NADU</td>\n",
       "    </tr>\n",
       "    <tr>\n",
       "      <th>1</th>\n",
       "      <td>2018-05-15</td>\n",
       "      <td>00002cd8fd6d3ae94d385102c85d40870430bed3</td>\n",
       "      <td>Vodafone Essar</td>\n",
       "      <td>GUJARAT</td>\n",
       "    </tr>\n",
       "    <tr>\n",
       "      <th>2</th>\n",
       "      <td>2018-05-15</td>\n",
       "      <td>0000c379b9f8c3476e3fb7e86ec0b8ccc3f6b90c</td>\n",
       "      <td>Jio</td>\n",
       "      <td>UTTAR PRADESH</td>\n",
       "    </tr>\n",
       "    <tr>\n",
       "      <th>3</th>\n",
       "      <td>2018-04-15</td>\n",
       "      <td>0001265ed98b8c1ac1f208e68a05ebcd501aca8b</td>\n",
       "      <td>Jio</td>\n",
       "      <td>ASSAM</td>\n",
       "    </tr>\n",
       "    <tr>\n",
       "      <th>4</th>\n",
       "      <td>2018-05-15</td>\n",
       "      <td>0001cbb4b1428ad3f0175532b8c8e2b108f32d08</td>\n",
       "      <td>Jio</td>\n",
       "      <td>KARNATAKA</td>\n",
       "    </tr>\n",
       "  </tbody>\n",
       "</table>\n",
       "</div>"
      ],
      "text/plain": [
       "         date                                      udid        operator  \\\n",
       "0  2018-04-15  00000902bb5bea2d8f865e1c6b0ace6abf6725d7             Jio   \n",
       "1  2018-05-15  00002cd8fd6d3ae94d385102c85d40870430bed3  Vodafone Essar   \n",
       "2  2018-05-15  0000c379b9f8c3476e3fb7e86ec0b8ccc3f6b90c             Jio   \n",
       "3  2018-04-15  0001265ed98b8c1ac1f208e68a05ebcd501aca8b             Jio   \n",
       "4  2018-05-15  0001cbb4b1428ad3f0175532b8c8e2b108f32d08             Jio   \n",
       "\n",
       "           state  \n",
       "0     TAMIL NADU  \n",
       "1        GUJARAT  \n",
       "2  UTTAR PRADESH  \n",
       "3          ASSAM  \n",
       "4      KARNATAKA  "
      ]
     },
     "execution_count": 5,
     "metadata": {},
     "output_type": "execute_result"
    }
   ],
   "source": [
    "#State level\n",
    "data_state = data[['date','udid','operator','state']].drop_duplicates()\n",
    "print data_state.size\n",
    "data_state.head()"
   ]
  },
  {
   "cell_type": "code",
   "execution_count": 20,
   "metadata": {},
   "outputs": [
    {
     "name": "stdout",
     "output_type": "stream",
     "text": [
      "['Jio' 'Vodafone Essar' 'Bharti Airtel' 'Idea']\n",
      "['2018-04-15' '2018-05-15']\n"
     ]
    }
   ],
   "source": [
    "print data_state.operator.unique()\n",
    "print data_state.date.unique()"
   ]
  },
  {
   "cell_type": "code",
   "execution_count": 6,
   "metadata": {},
   "outputs": [
    {
     "data": {
      "text/html": [
       "<div>\n",
       "<table border=\"1\" class=\"dataframe\">\n",
       "  <thead>\n",
       "    <tr style=\"text-align: right;\">\n",
       "      <th></th>\n",
       "      <th>date</th>\n",
       "      <th>udid</th>\n",
       "      <th>operator</th>\n",
       "      <th>state</th>\n",
       "    </tr>\n",
       "  </thead>\n",
       "  <tbody>\n",
       "    <tr>\n",
       "      <th>0</th>\n",
       "      <td>Apr</td>\n",
       "      <td>00000902bb5bea2d8f865e1c6b0ace6abf6725d7</td>\n",
       "      <td>1</td>\n",
       "      <td>TAMIL NADU</td>\n",
       "    </tr>\n",
       "    <tr>\n",
       "      <th>1</th>\n",
       "      <td>May</td>\n",
       "      <td>00002cd8fd6d3ae94d385102c85d40870430bed3</td>\n",
       "      <td>2</td>\n",
       "      <td>GUJARAT</td>\n",
       "    </tr>\n",
       "    <tr>\n",
       "      <th>2</th>\n",
       "      <td>May</td>\n",
       "      <td>0000c379b9f8c3476e3fb7e86ec0b8ccc3f6b90c</td>\n",
       "      <td>1</td>\n",
       "      <td>UTTAR PRADESH</td>\n",
       "    </tr>\n",
       "    <tr>\n",
       "      <th>3</th>\n",
       "      <td>Apr</td>\n",
       "      <td>0001265ed98b8c1ac1f208e68a05ebcd501aca8b</td>\n",
       "      <td>1</td>\n",
       "      <td>ASSAM</td>\n",
       "    </tr>\n",
       "    <tr>\n",
       "      <th>4</th>\n",
       "      <td>May</td>\n",
       "      <td>0001cbb4b1428ad3f0175532b8c8e2b108f32d08</td>\n",
       "      <td>1</td>\n",
       "      <td>KARNATAKA</td>\n",
       "    </tr>\n",
       "  </tbody>\n",
       "</table>\n",
       "</div>"
      ],
      "text/plain": [
       "  date                                      udid  operator          state\n",
       "0  Apr  00000902bb5bea2d8f865e1c6b0ace6abf6725d7         1     TAMIL NADU\n",
       "1  May  00002cd8fd6d3ae94d385102c85d40870430bed3         2        GUJARAT\n",
       "2  May  0000c379b9f8c3476e3fb7e86ec0b8ccc3f6b90c         1  UTTAR PRADESH\n",
       "3  Apr  0001265ed98b8c1ac1f208e68a05ebcd501aca8b         1          ASSAM\n",
       "4  May  0001cbb4b1428ad3f0175532b8c8e2b108f32d08         1      KARNATAKA"
      ]
     },
     "execution_count": 6,
     "metadata": {},
     "output_type": "execute_result"
    }
   ],
   "source": [
    "#Replace operators by numbers and dates by months\n",
    "df1 = data_state.replace({'Jio': 1, 'Vodafone Essar': 2, 'Bharti Airtel':3, 'Idea':4})\n",
    "df1 = df1.replace({'2018-04-15': 'Apr', '2018-05-15': 'May'})\n",
    "df1.head()"
   ]
  },
  {
   "cell_type": "code",
   "execution_count": 10,
   "metadata": {},
   "outputs": [],
   "source": [
    "df1_apr = df1[df1['date'] == 'Apr']\n",
    "df1_may = df1[df1['date'] == 'May']"
   ]
  },
  {
   "cell_type": "code",
   "execution_count": 27,
   "metadata": {},
   "outputs": [
    {
     "name": "stdout",
     "output_type": "stream",
     "text": [
      "34449024\n",
      "34527820\n"
     ]
    }
   ],
   "source": [
    "df1_apr.head()\n",
    "df1_may.head()\n",
    "\n",
    "print df1_apr.size\n",
    "print df1_may.size"
   ]
  },
  {
   "cell_type": "code",
   "execution_count": 34,
   "metadata": {},
   "outputs": [],
   "source": [
    "#Churn at national level\n",
    "country = pd.merge(df1_apr[['date','udid','operator']], df1_may[['date','udid','operator']], how='left', on= ['udid','operator'] ,indicator=True, suffixes=('_x', '_y'))"
   ]
  },
  {
   "cell_type": "code",
   "execution_count": 35,
   "metadata": {},
   "outputs": [
    {
     "data": {
      "text/html": [
       "<div>\n",
       "<table border=\"1\" class=\"dataframe\">\n",
       "  <thead>\n",
       "    <tr style=\"text-align: right;\">\n",
       "      <th></th>\n",
       "      <th>date_x</th>\n",
       "      <th>udid</th>\n",
       "      <th>operator</th>\n",
       "      <th>date_y</th>\n",
       "      <th>_merge</th>\n",
       "    </tr>\n",
       "  </thead>\n",
       "  <tbody>\n",
       "    <tr>\n",
       "      <th>0</th>\n",
       "      <td>Apr</td>\n",
       "      <td>00000902bb5bea2d8f865e1c6b0ace6abf6725d7</td>\n",
       "      <td>1</td>\n",
       "      <td>May</td>\n",
       "      <td>both</td>\n",
       "    </tr>\n",
       "    <tr>\n",
       "      <th>1</th>\n",
       "      <td>Apr</td>\n",
       "      <td>0001265ed98b8c1ac1f208e68a05ebcd501aca8b</td>\n",
       "      <td>1</td>\n",
       "      <td>May</td>\n",
       "      <td>both</td>\n",
       "    </tr>\n",
       "    <tr>\n",
       "      <th>2</th>\n",
       "      <td>Apr</td>\n",
       "      <td>0003610ce98164faaafc131a01402eac5a87f2a3</td>\n",
       "      <td>1</td>\n",
       "      <td>May</td>\n",
       "      <td>both</td>\n",
       "    </tr>\n",
       "    <tr>\n",
       "      <th>3</th>\n",
       "      <td>Apr</td>\n",
       "      <td>0004533e17eeff9b25540908ea1e0c8848da89f0</td>\n",
       "      <td>2</td>\n",
       "      <td>May</td>\n",
       "      <td>both</td>\n",
       "    </tr>\n",
       "    <tr>\n",
       "      <th>4</th>\n",
       "      <td>Apr</td>\n",
       "      <td>0004b5b18802f8486339eb3daa04f633dcbc1c7c</td>\n",
       "      <td>1</td>\n",
       "      <td>May</td>\n",
       "      <td>both</td>\n",
       "    </tr>\n",
       "  </tbody>\n",
       "</table>\n",
       "</div>"
      ],
      "text/plain": [
       "  date_x                                      udid  operator date_y _merge\n",
       "0    Apr  00000902bb5bea2d8f865e1c6b0ace6abf6725d7         1    May   both\n",
       "1    Apr  0001265ed98b8c1ac1f208e68a05ebcd501aca8b         1    May   both\n",
       "2    Apr  0003610ce98164faaafc131a01402eac5a87f2a3         1    May   both\n",
       "3    Apr  0004533e17eeff9b25540908ea1e0c8848da89f0         2    May   both\n",
       "4    Apr  0004b5b18802f8486339eb3daa04f633dcbc1c7c         1    May   both"
      ]
     },
     "execution_count": 35,
     "metadata": {},
     "output_type": "execute_result"
    }
   ],
   "source": [
    "country.head()"
   ]
  },
  {
   "cell_type": "code",
   "execution_count": 36,
   "metadata": {},
   "outputs": [
    {
     "data": {
      "text/plain": [
       "[both, left_only]\n",
       "Categories (2, object): [both, left_only]"
      ]
     },
     "execution_count": 36,
     "metadata": {},
     "output_type": "execute_result"
    }
   ],
   "source": [
    "country._merge.unique()"
   ]
  },
  {
   "cell_type": "code",
   "execution_count": 48,
   "metadata": {},
   "outputs": [
    {
     "name": "stdout",
     "output_type": "stream",
     "text": [
      "Total connections = 43844545\n",
      "Churned =  3467535\n",
      "%age churned =  0.0790870335181\n",
      "Loyal =  40377010\n"
     ]
    }
   ],
   "source": [
    "#total customers in the country (assuming every operator to have a new customer even if 1 person has 2 phones)\n",
    "print 'Total connections =',country.size\n",
    "\n",
    "#customers who churned\n",
    "print 'Churned = ',country[country['_merge'] == 'left_only'].size\n",
    "\n",
    "#%ge churn\n",
    "print '%age churned = ',country[country['_merge'] == 'left_only'].size/country.size.astype(float)\n",
    "\n",
    "#customers who stayed\n",
    "print 'Loyal = ',country[country['_merge'] == 'both'].size"
   ]
  },
  {
   "cell_type": "code",
   "execution_count": 74,
   "metadata": {},
   "outputs": [],
   "source": [
    "#Churn at state level\n",
    "\n",
    "#Get unique customers and state\n",
    "cust_same_state = df1_apr[['date','udid','state']].drop_duplicates()\n",
    "#cust_same_state.head()\n",
    "\n",
    "#Subset May dataset to retain only those customers who stayed in the same state\n",
    "cust_may = pd.merge(df1_may, cust_same_state[['udid','state']], how='inner', on= ['udid','state'] ,indicator=True, suffixes=('_x', '_y'))\n",
    "#cust_may.head()"
   ]
  },
  {
   "cell_type": "code",
   "execution_count": 82,
   "metadata": {},
   "outputs": [
    {
     "data": {
      "text/html": [
       "<div>\n",
       "<table border=\"1\" class=\"dataframe\">\n",
       "  <thead>\n",
       "    <tr style=\"text-align: right;\">\n",
       "      <th></th>\n",
       "      <th>date_x</th>\n",
       "      <th>udid</th>\n",
       "      <th>operator</th>\n",
       "      <th>state</th>\n",
       "      <th>date_y</th>\n",
       "      <th>_merge</th>\n",
       "    </tr>\n",
       "  </thead>\n",
       "  <tbody>\n",
       "    <tr>\n",
       "      <th>0</th>\n",
       "      <td>Apr</td>\n",
       "      <td>00000902bb5bea2d8f865e1c6b0ace6abf6725d7</td>\n",
       "      <td>1</td>\n",
       "      <td>TAMIL NADU</td>\n",
       "      <td>May</td>\n",
       "      <td>both</td>\n",
       "    </tr>\n",
       "    <tr>\n",
       "      <th>1</th>\n",
       "      <td>Apr</td>\n",
       "      <td>0001265ed98b8c1ac1f208e68a05ebcd501aca8b</td>\n",
       "      <td>1</td>\n",
       "      <td>ASSAM</td>\n",
       "      <td>May</td>\n",
       "      <td>both</td>\n",
       "    </tr>\n",
       "    <tr>\n",
       "      <th>2</th>\n",
       "      <td>Apr</td>\n",
       "      <td>0003610ce98164faaafc131a01402eac5a87f2a3</td>\n",
       "      <td>1</td>\n",
       "      <td>MAHARASHTRA</td>\n",
       "      <td>May</td>\n",
       "      <td>both</td>\n",
       "    </tr>\n",
       "    <tr>\n",
       "      <th>3</th>\n",
       "      <td>Apr</td>\n",
       "      <td>0004533e17eeff9b25540908ea1e0c8848da89f0</td>\n",
       "      <td>2</td>\n",
       "      <td>UTTAR PRADESH</td>\n",
       "      <td>May</td>\n",
       "      <td>both</td>\n",
       "    </tr>\n",
       "    <tr>\n",
       "      <th>4</th>\n",
       "      <td>Apr</td>\n",
       "      <td>0004b5b18802f8486339eb3daa04f633dcbc1c7c</td>\n",
       "      <td>1</td>\n",
       "      <td>ASSAM</td>\n",
       "      <td>May</td>\n",
       "      <td>both</td>\n",
       "    </tr>\n",
       "  </tbody>\n",
       "</table>\n",
       "</div>"
      ],
      "text/plain": [
       "  date_x                                      udid  operator          state  \\\n",
       "0    Apr  00000902bb5bea2d8f865e1c6b0ace6abf6725d7         1     TAMIL NADU   \n",
       "1    Apr  0001265ed98b8c1ac1f208e68a05ebcd501aca8b         1          ASSAM   \n",
       "2    Apr  0003610ce98164faaafc131a01402eac5a87f2a3         1    MAHARASHTRA   \n",
       "3    Apr  0004533e17eeff9b25540908ea1e0c8848da89f0         2  UTTAR PRADESH   \n",
       "4    Apr  0004b5b18802f8486339eb3daa04f633dcbc1c7c         1          ASSAM   \n",
       "\n",
       "  date_y _merge  \n",
       "0    May   both  \n",
       "1    May   both  \n",
       "2    May   both  \n",
       "3    May   both  \n",
       "4    May   both  "
      ]
     },
     "execution_count": 82,
     "metadata": {},
     "output_type": "execute_result"
    }
   ],
   "source": [
    "#Left join at state level\n",
    "cust_state = pd.merge( df1_apr[['date','udid','operator','state']], cust_may[['date','udid','operator','state']], how='left', on= ['udid','operator','state'] ,indicator=True, suffixes=('_x', '_y'))\n",
    "cust_state.head()"
   ]
  },
  {
   "cell_type": "code",
   "execution_count": 83,
   "metadata": {},
   "outputs": [
    {
     "name": "stdout",
     "output_type": "stream",
     "text": [
      "[both, left_only]\n",
      "Categories (2, object): [both, left_only]\n",
      "\n",
      "Customers-state combination in April: 25800918\n",
      "51673536\n"
     ]
    }
   ],
   "source": [
    "print cust_state._merge.unique()\n",
    "print ''\n",
    "print 'Customers-state combination in April:',cust_same_state.size\n",
    "print cust_state.size"
   ]
  },
  {
   "cell_type": "code",
   "execution_count": 85,
   "metadata": {},
   "outputs": [
    {
     "data": {
      "text/html": [
       "<div>\n",
       "<table border=\"1\" class=\"dataframe\">\n",
       "  <thead>\n",
       "    <tr style=\"text-align: right;\">\n",
       "      <th></th>\n",
       "      <th>date_x</th>\n",
       "      <th>udid</th>\n",
       "      <th>operator</th>\n",
       "      <th>state</th>\n",
       "      <th>date_y</th>\n",
       "      <th>_merge</th>\n",
       "    </tr>\n",
       "  </thead>\n",
       "  <tbody>\n",
       "    <tr>\n",
       "      <th>9</th>\n",
       "      <td>Apr</td>\n",
       "      <td>0007c6416358dcf6c33c943b525bb097dcab2229</td>\n",
       "      <td>1</td>\n",
       "      <td>TAMIL NADU</td>\n",
       "      <td>NaN</td>\n",
       "      <td>left_only</td>\n",
       "    </tr>\n",
       "    <tr>\n",
       "      <th>10</th>\n",
       "      <td>Apr</td>\n",
       "      <td>00084a860efc0b97093566233f1f1098e67a13bc</td>\n",
       "      <td>3</td>\n",
       "      <td>BIHAR</td>\n",
       "      <td>NaN</td>\n",
       "      <td>left_only</td>\n",
       "    </tr>\n",
       "    <tr>\n",
       "      <th>17</th>\n",
       "      <td>Apr</td>\n",
       "      <td>0012ad4b60c428924ca1a19a0601ae3de0fff793</td>\n",
       "      <td>3</td>\n",
       "      <td>HARYANA</td>\n",
       "      <td>NaN</td>\n",
       "      <td>left_only</td>\n",
       "    </tr>\n",
       "    <tr>\n",
       "      <th>20</th>\n",
       "      <td>Apr</td>\n",
       "      <td>00147352f98b70c4d814a7fa0851d861a09540e9</td>\n",
       "      <td>4</td>\n",
       "      <td>GUJARAT</td>\n",
       "      <td>NaN</td>\n",
       "      <td>left_only</td>\n",
       "    </tr>\n",
       "    <tr>\n",
       "      <th>27</th>\n",
       "      <td>Apr</td>\n",
       "      <td>001bd3b7d84402d73e78fb0d4fa69cbd8cf93e52</td>\n",
       "      <td>4</td>\n",
       "      <td>TELANGANA</td>\n",
       "      <td>NaN</td>\n",
       "      <td>left_only</td>\n",
       "    </tr>\n",
       "    <tr>\n",
       "      <th>32</th>\n",
       "      <td>Apr</td>\n",
       "      <td>002285aeed833d0a70551ab2dc980972a99fbaa6</td>\n",
       "      <td>2</td>\n",
       "      <td>TELANGANA</td>\n",
       "      <td>NaN</td>\n",
       "      <td>left_only</td>\n",
       "    </tr>\n",
       "    <tr>\n",
       "      <th>37</th>\n",
       "      <td>Apr</td>\n",
       "      <td>002810d060c4cc0f0300a1b0ba92c3070044e305</td>\n",
       "      <td>3</td>\n",
       "      <td>PUNJAB</td>\n",
       "      <td>NaN</td>\n",
       "      <td>left_only</td>\n",
       "    </tr>\n",
       "    <tr>\n",
       "      <th>42</th>\n",
       "      <td>Apr</td>\n",
       "      <td>002b9c3704cbe5f7bee58020a1178c38082b23b9</td>\n",
       "      <td>3</td>\n",
       "      <td>GUJARAT</td>\n",
       "      <td>NaN</td>\n",
       "      <td>left_only</td>\n",
       "    </tr>\n",
       "    <tr>\n",
       "      <th>46</th>\n",
       "      <td>Apr</td>\n",
       "      <td>002de9aafeb52ab0e4a4622dd8ea1bb4be59d44f</td>\n",
       "      <td>1</td>\n",
       "      <td>TELANGANA</td>\n",
       "      <td>NaN</td>\n",
       "      <td>left_only</td>\n",
       "    </tr>\n",
       "    <tr>\n",
       "      <th>49</th>\n",
       "      <td>Apr</td>\n",
       "      <td>0031e2ce5a971e203bc709fba3def1558bbab366</td>\n",
       "      <td>1</td>\n",
       "      <td>JAMMU AND KASHMIR</td>\n",
       "      <td>NaN</td>\n",
       "      <td>left_only</td>\n",
       "    </tr>\n",
       "    <tr>\n",
       "      <th>50</th>\n",
       "      <td>Apr</td>\n",
       "      <td>0032fec9f454d9016a4e47e7c155b94bae84c6a0</td>\n",
       "      <td>4</td>\n",
       "      <td>ANDHRA PRADESH</td>\n",
       "      <td>NaN</td>\n",
       "      <td>left_only</td>\n",
       "    </tr>\n",
       "    <tr>\n",
       "      <th>51</th>\n",
       "      <td>Apr</td>\n",
       "      <td>003321a8df766805fba7c5f2266e30167782836c</td>\n",
       "      <td>2</td>\n",
       "      <td>DELHI</td>\n",
       "      <td>NaN</td>\n",
       "      <td>left_only</td>\n",
       "    </tr>\n",
       "    <tr>\n",
       "      <th>62</th>\n",
       "      <td>Apr</td>\n",
       "      <td>003a7296bcef1696bc0cf2839e5d89cadb804958</td>\n",
       "      <td>1</td>\n",
       "      <td>UTTARAKHAND</td>\n",
       "      <td>NaN</td>\n",
       "      <td>left_only</td>\n",
       "    </tr>\n",
       "    <tr>\n",
       "      <th>66</th>\n",
       "      <td>Apr</td>\n",
       "      <td>003d3dd100ad713e82176c5b25c54c0fb20465a9</td>\n",
       "      <td>4</td>\n",
       "      <td>MADHYA PRADESH</td>\n",
       "      <td>NaN</td>\n",
       "      <td>left_only</td>\n",
       "    </tr>\n",
       "    <tr>\n",
       "      <th>74</th>\n",
       "      <td>Apr</td>\n",
       "      <td>004672ff665000cd568058b7760e99ad7caf8197</td>\n",
       "      <td>1</td>\n",
       "      <td>TELANGANA</td>\n",
       "      <td>NaN</td>\n",
       "      <td>left_only</td>\n",
       "    </tr>\n",
       "    <tr>\n",
       "      <th>76</th>\n",
       "      <td>Apr</td>\n",
       "      <td>0048666c38e20aec672ae5346d8dc507744f9041</td>\n",
       "      <td>3</td>\n",
       "      <td>RAJASTHAN</td>\n",
       "      <td>NaN</td>\n",
       "      <td>left_only</td>\n",
       "    </tr>\n",
       "    <tr>\n",
       "      <th>79</th>\n",
       "      <td>Apr</td>\n",
       "      <td>0049ca852a78a3e65b7803b14fc384cd5b8c2b07</td>\n",
       "      <td>1</td>\n",
       "      <td>ANDHRA PRADESH</td>\n",
       "      <td>NaN</td>\n",
       "      <td>left_only</td>\n",
       "    </tr>\n",
       "    <tr>\n",
       "      <th>81</th>\n",
       "      <td>Apr</td>\n",
       "      <td>004a3410eb609abc5cfe4473c61a7340d1c059f0</td>\n",
       "      <td>4</td>\n",
       "      <td>KERALA</td>\n",
       "      <td>NaN</td>\n",
       "      <td>left_only</td>\n",
       "    </tr>\n",
       "    <tr>\n",
       "      <th>84</th>\n",
       "      <td>Apr</td>\n",
       "      <td>004c6f15d65089a8b6d077e725416142fad70d22</td>\n",
       "      <td>1</td>\n",
       "      <td>DELHI</td>\n",
       "      <td>NaN</td>\n",
       "      <td>left_only</td>\n",
       "    </tr>\n",
       "    <tr>\n",
       "      <th>85</th>\n",
       "      <td>Apr</td>\n",
       "      <td>004c778266ea8f5024279a106a75ab8dce87dfcc</td>\n",
       "      <td>3</td>\n",
       "      <td>MAHARASHTRA</td>\n",
       "      <td>NaN</td>\n",
       "      <td>left_only</td>\n",
       "    </tr>\n",
       "  </tbody>\n",
       "</table>\n",
       "</div>"
      ],
      "text/plain": [
       "   date_x                                      udid  operator  \\\n",
       "9     Apr  0007c6416358dcf6c33c943b525bb097dcab2229         1   \n",
       "10    Apr  00084a860efc0b97093566233f1f1098e67a13bc         3   \n",
       "17    Apr  0012ad4b60c428924ca1a19a0601ae3de0fff793         3   \n",
       "20    Apr  00147352f98b70c4d814a7fa0851d861a09540e9         4   \n",
       "27    Apr  001bd3b7d84402d73e78fb0d4fa69cbd8cf93e52         4   \n",
       "32    Apr  002285aeed833d0a70551ab2dc980972a99fbaa6         2   \n",
       "37    Apr  002810d060c4cc0f0300a1b0ba92c3070044e305         3   \n",
       "42    Apr  002b9c3704cbe5f7bee58020a1178c38082b23b9         3   \n",
       "46    Apr  002de9aafeb52ab0e4a4622dd8ea1bb4be59d44f         1   \n",
       "49    Apr  0031e2ce5a971e203bc709fba3def1558bbab366         1   \n",
       "50    Apr  0032fec9f454d9016a4e47e7c155b94bae84c6a0         4   \n",
       "51    Apr  003321a8df766805fba7c5f2266e30167782836c         2   \n",
       "62    Apr  003a7296bcef1696bc0cf2839e5d89cadb804958         1   \n",
       "66    Apr  003d3dd100ad713e82176c5b25c54c0fb20465a9         4   \n",
       "74    Apr  004672ff665000cd568058b7760e99ad7caf8197         1   \n",
       "76    Apr  0048666c38e20aec672ae5346d8dc507744f9041         3   \n",
       "79    Apr  0049ca852a78a3e65b7803b14fc384cd5b8c2b07         1   \n",
       "81    Apr  004a3410eb609abc5cfe4473c61a7340d1c059f0         4   \n",
       "84    Apr  004c6f15d65089a8b6d077e725416142fad70d22         1   \n",
       "85    Apr  004c778266ea8f5024279a106a75ab8dce87dfcc         3   \n",
       "\n",
       "                state date_y     _merge  \n",
       "9          TAMIL NADU    NaN  left_only  \n",
       "10              BIHAR    NaN  left_only  \n",
       "17            HARYANA    NaN  left_only  \n",
       "20            GUJARAT    NaN  left_only  \n",
       "27          TELANGANA    NaN  left_only  \n",
       "32          TELANGANA    NaN  left_only  \n",
       "37             PUNJAB    NaN  left_only  \n",
       "42            GUJARAT    NaN  left_only  \n",
       "46          TELANGANA    NaN  left_only  \n",
       "49  JAMMU AND KASHMIR    NaN  left_only  \n",
       "50     ANDHRA PRADESH    NaN  left_only  \n",
       "51              DELHI    NaN  left_only  \n",
       "62        UTTARAKHAND    NaN  left_only  \n",
       "66     MADHYA PRADESH    NaN  left_only  \n",
       "74          TELANGANA    NaN  left_only  \n",
       "76          RAJASTHAN    NaN  left_only  \n",
       "79     ANDHRA PRADESH    NaN  left_only  \n",
       "81             KERALA    NaN  left_only  \n",
       "84              DELHI    NaN  left_only  \n",
       "85        MAHARASHTRA    NaN  left_only  "
      ]
     },
     "execution_count": 85,
     "metadata": {},
     "output_type": "execute_result"
    }
   ],
   "source": [
    "cust_state[cust_state['_merge'] == 'left_only'].head(20)"
   ]
  },
  {
   "cell_type": "code",
   "execution_count": null,
   "metadata": {
    "collapsed": true
   },
   "outputs": [],
   "source": []
  },
  {
   "cell_type": "code",
   "execution_count": null,
   "metadata": {
    "collapsed": true
   },
   "outputs": [],
   "source": [
    "import pandasql as ps\n",
    "#df1.groupby(['udid','date']).filter(lambda x: len(x) > 1)\n",
    "\n",
    "df1[df1.date == 'Apr'].groupby('udid').filter(lambda g: len(g) > 1).size()\n",
    "#.groupby('udid').size()\n",
    "#.sort_values(ascending=False)\n",
    "\n",
    "q1 = \"\"\"\n",
    "SELECT operator \n",
    "FROM data_state\n",
    "limit 2\n",
    "\"\"\"\n",
    "\n",
    "#print(ps.sqldf(q1, locals()))"
   ]
  },
  {
   "cell_type": "code",
   "execution_count": 24,
   "metadata": {},
   "outputs": [
    {
     "data": {
      "text/html": [
       "<div>\n",
       "<table border=\"1\" class=\"dataframe\">\n",
       "  <thead>\n",
       "    <tr style=\"text-align: right;\">\n",
       "      <th>date</th>\n",
       "      <th>Apr</th>\n",
       "      <th>May</th>\n",
       "    </tr>\n",
       "    <tr>\n",
       "      <th>udid</th>\n",
       "      <th></th>\n",
       "      <th></th>\n",
       "    </tr>\n",
       "  </thead>\n",
       "  <tbody>\n",
       "    <tr>\n",
       "      <th>000001b2f4b9d139ed496267f056516edf833e80</th>\n",
       "      <td>3.0</td>\n",
       "      <td>3.0</td>\n",
       "    </tr>\n",
       "    <tr>\n",
       "      <th>000003fb76b5e01f88dfbb57ce596de197d052cd</th>\n",
       "      <td>2.0</td>\n",
       "      <td>2.0</td>\n",
       "    </tr>\n",
       "    <tr>\n",
       "      <th>00000902bb5bea2d8f865e1c6b0ace6abf6725d7</th>\n",
       "      <td>1.0</td>\n",
       "      <td>1.0</td>\n",
       "    </tr>\n",
       "    <tr>\n",
       "      <th>00000a52170c3d10d43ff77eb03c04dd164996d4</th>\n",
       "      <td>1.0</td>\n",
       "      <td>1.0</td>\n",
       "    </tr>\n",
       "    <tr>\n",
       "      <th>00000a78561f96624d409c0c1b6c297ad308ce08</th>\n",
       "      <td>1.0</td>\n",
       "      <td>1.0</td>\n",
       "    </tr>\n",
       "  </tbody>\n",
       "</table>\n",
       "</div>"
      ],
      "text/plain": [
       "date                                      Apr  May\n",
       "udid                                              \n",
       "000001b2f4b9d139ed496267f056516edf833e80  3.0  3.0\n",
       "000003fb76b5e01f88dfbb57ce596de197d052cd  2.0  2.0\n",
       "00000902bb5bea2d8f865e1c6b0ace6abf6725d7  1.0  1.0\n",
       "00000a52170c3d10d43ff77eb03c04dd164996d4  1.0  1.0\n",
       "00000a78561f96624d409c0c1b6c297ad308ce08  1.0  1.0"
      ]
     },
     "execution_count": 24,
     "metadata": {},
     "output_type": "execute_result"
    }
   ],
   "source": [
    "df = pd.pivot_table(df1,values='operator',index='udid',columns='date')\n",
    "df.head()"
   ]
  },
  {
   "cell_type": "code",
   "execution_count": 26,
   "metadata": {},
   "outputs": [
    {
     "data": {
      "text/html": [
       "<div>\n",
       "<table border=\"1\" class=\"dataframe\">\n",
       "  <thead>\n",
       "    <tr style=\"text-align: right;\">\n",
       "      <th>date</th>\n",
       "      <th>Apr</th>\n",
       "      <th>May</th>\n",
       "    </tr>\n",
       "    <tr>\n",
       "      <th>udid</th>\n",
       "      <th></th>\n",
       "      <th></th>\n",
       "    </tr>\n",
       "  </thead>\n",
       "  <tbody>\n",
       "    <tr>\n",
       "      <th>000001b2f4b9d139ed496267f056516edf833e80</th>\n",
       "      <td>3.0</td>\n",
       "      <td>3.0</td>\n",
       "    </tr>\n",
       "    <tr>\n",
       "      <th>000003fb76b5e01f88dfbb57ce596de197d052cd</th>\n",
       "      <td>2.0</td>\n",
       "      <td>2.0</td>\n",
       "    </tr>\n",
       "    <tr>\n",
       "      <th>000016710f5ebd40631966c55bddff9893e1d52f</th>\n",
       "      <td>4.0</td>\n",
       "      <td>4.0</td>\n",
       "    </tr>\n",
       "    <tr>\n",
       "      <th>00001a76b6c34367585776ee555169435c111f29</th>\n",
       "      <td>4.0</td>\n",
       "      <td>4.0</td>\n",
       "    </tr>\n",
       "    <tr>\n",
       "      <th>00001d617ecfeeaa9e9bc65a3c7503582da7ca6f</th>\n",
       "      <td>2.0</td>\n",
       "      <td>2.0</td>\n",
       "    </tr>\n",
       "  </tbody>\n",
       "</table>\n",
       "</div>"
      ],
      "text/plain": [
       "date                                      Apr  May\n",
       "udid                                              \n",
       "000001b2f4b9d139ed496267f056516edf833e80  3.0  3.0\n",
       "000003fb76b5e01f88dfbb57ce596de197d052cd  2.0  2.0\n",
       "000016710f5ebd40631966c55bddff9893e1d52f  4.0  4.0\n",
       "00001a76b6c34367585776ee555169435c111f29  4.0  4.0\n",
       "00001d617ecfeeaa9e9bc65a3c7503582da7ca6f  2.0  2.0"
      ]
     },
     "execution_count": 26,
     "metadata": {},
     "output_type": "execute_result"
    }
   ],
   "source": [
    "df[df['Apr'] > 1].head()"
   ]
  },
  {
   "cell_type": "code",
   "execution_count": null,
   "metadata": {
    "collapsed": true
   },
   "outputs": [],
   "source": []
  }
 ],
 "metadata": {
  "kernelspec": {
   "display_name": "Python [Root]",
   "language": "python",
   "name": "Python [Root]"
  },
  "language_info": {
   "codemirror_mode": {
    "name": "ipython",
    "version": 2
   },
   "file_extension": ".py",
   "mimetype": "text/x-python",
   "name": "python",
   "nbconvert_exporter": "python",
   "pygments_lexer": "ipython2",
   "version": "2.7.12"
  }
 },
 "nbformat": 4,
 "nbformat_minor": 1
}
