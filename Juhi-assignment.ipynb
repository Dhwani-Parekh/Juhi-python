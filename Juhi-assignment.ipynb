{
 "cells": [
  {
   "cell_type": "code",
   "execution_count": 1,
   "metadata": {
    "collapsed": true
   },
   "outputs": [],
   "source": [
    "import pandas as pd"
   ]
  },
  {
   "cell_type": "markdown",
   "metadata": {},
   "source": [
    "## Objective:\n",
    "Analyze Market Share trends by Cities (Mumbai, Bangalore, Delhi, Chennai, Kolkata, Hyderabad)\n",
    "\n",
    "To understand the churn pattern of users i.e. in which states/cities we are seeing a major movement of users to other carriers\n",
    "\n",
    "Comparison of the top 10 pin codes, where Airtel has lost market share in this period and other operators like Reliance Jio has witnessed a significant surge\n",
    "\n",
    "Suggest a distinctive strategy for Airtel to retain its users across 3 different states\n",
    "\n",
    "Specify the assumptions taken during the analysis\n",
    "\n",
    "## Data Dictionary:\n",
    "date: Date of which the record is captured\n",
    "\n",
    "udid: Unique identifier of the user/customer\n",
    "\n",
    "\n",
    "Operator: Mobile operator of the user\n",
    "\n",
    "State: State where the user is spotted on that day\n",
    "\n",
    "City: City where the user is spotted on that day\n",
    "\n",
    "zipcode: ZIP where the user is spotted on that day\n",
    "\n",
    "Ad_Requests: Mobile traffic in terms of ad-requests reflects user's quantitative activity on that day using that operator\n"
   ]
  },
  {
   "cell_type": "code",
   "execution_count": null,
   "metadata": {
    "collapsed": true
   },
   "outputs": [],
   "source": []
  },
  {
   "cell_type": "code",
   "execution_count": 2,
   "metadata": {
    "collapsed": true
   },
   "outputs": [],
   "source": [
    "data = pd.read_csv('rawdata.csv')"
   ]
  },
  {
   "cell_type": "code",
   "execution_count": 6,
   "metadata": {},
   "outputs": [
    {
     "data": {
      "text/html": [
       "<div>\n",
       "<table border=\"1\" class=\"dataframe\">\n",
       "  <thead>\n",
       "    <tr style=\"text-align: right;\">\n",
       "      <th></th>\n",
       "      <th>date</th>\n",
       "      <th>udid</th>\n",
       "      <th>operator</th>\n",
       "      <th>state</th>\n",
       "      <th>city</th>\n",
       "      <th>zipcode</th>\n",
       "      <th>ad_requests</th>\n",
       "    </tr>\n",
       "  </thead>\n",
       "  <tbody>\n",
       "    <tr>\n",
       "      <th>0</th>\n",
       "      <td>2018-04-15</td>\n",
       "      <td>00000902bb5bea2d8f865e1c6b0ace6abf6725d7</td>\n",
       "      <td>Jio</td>\n",
       "      <td>TAMIL NADU</td>\n",
       "      <td>PALANI</td>\n",
       "      <td>624601</td>\n",
       "      <td>1</td>\n",
       "    </tr>\n",
       "    <tr>\n",
       "      <th>1</th>\n",
       "      <td>2018-05-15</td>\n",
       "      <td>00002cd8fd6d3ae94d385102c85d40870430bed3</td>\n",
       "      <td>Vodafone Essar</td>\n",
       "      <td>GUJARAT</td>\n",
       "      <td>AHMEDABAD</td>\n",
       "      <td>380014</td>\n",
       "      <td>3</td>\n",
       "    </tr>\n",
       "    <tr>\n",
       "      <th>2</th>\n",
       "      <td>2018-05-15</td>\n",
       "      <td>0000c379b9f8c3476e3fb7e86ec0b8ccc3f6b90c</td>\n",
       "      <td>Jio</td>\n",
       "      <td>UTTAR PRADESH</td>\n",
       "      <td>CHANDAULI</td>\n",
       "      <td>232101</td>\n",
       "      <td>2</td>\n",
       "    </tr>\n",
       "    <tr>\n",
       "      <th>3</th>\n",
       "      <td>2018-04-15</td>\n",
       "      <td>0001265ed98b8c1ac1f208e68a05ebcd501aca8b</td>\n",
       "      <td>Jio</td>\n",
       "      <td>ASSAM</td>\n",
       "      <td>NORTH GUWAHATI</td>\n",
       "      <td>781008</td>\n",
       "      <td>77</td>\n",
       "    </tr>\n",
       "    <tr>\n",
       "      <th>4</th>\n",
       "      <td>2018-05-15</td>\n",
       "      <td>0001cbb4b1428ad3f0175532b8c8e2b108f32d08</td>\n",
       "      <td>Jio</td>\n",
       "      <td>KARNATAKA</td>\n",
       "      <td>BANGALORE</td>\n",
       "      <td>560066</td>\n",
       "      <td>6</td>\n",
       "    </tr>\n",
       "  </tbody>\n",
       "</table>\n",
       "</div>"
      ],
      "text/plain": [
       "         date                                      udid        operator  \\\n",
       "0  2018-04-15  00000902bb5bea2d8f865e1c6b0ace6abf6725d7             Jio   \n",
       "1  2018-05-15  00002cd8fd6d3ae94d385102c85d40870430bed3  Vodafone Essar   \n",
       "2  2018-05-15  0000c379b9f8c3476e3fb7e86ec0b8ccc3f6b90c             Jio   \n",
       "3  2018-04-15  0001265ed98b8c1ac1f208e68a05ebcd501aca8b             Jio   \n",
       "4  2018-05-15  0001cbb4b1428ad3f0175532b8c8e2b108f32d08             Jio   \n",
       "\n",
       "           state            city  zipcode  ad_requests  \n",
       "0     TAMIL NADU          PALANI   624601            1  \n",
       "1        GUJARAT       AHMEDABAD   380014            3  \n",
       "2  UTTAR PRADESH       CHANDAULI   232101            2  \n",
       "3          ASSAM  NORTH GUWAHATI   781008           77  \n",
       "4      KARNATAKA       BANGALORE   560066            6  "
      ]
     },
     "execution_count": 6,
     "metadata": {},
     "output_type": "execute_result"
    }
   ],
   "source": [
    "data.head()"
   ]
  },
  {
   "cell_type": "code",
   "execution_count": 7,
   "metadata": {},
   "outputs": [
    {
     "data": {
      "text/plain": [
       "130320337"
      ]
     },
     "execution_count": 7,
     "metadata": {},
     "output_type": "execute_result"
    }
   ],
   "source": [
    "data.size"
   ]
  },
  {
   "cell_type": "markdown",
   "metadata": {},
   "source": [
    "## Churn pattern"
   ]
  },
  {
   "cell_type": "code",
   "execution_count": 3,
   "metadata": {},
   "outputs": [
    {
     "name": "stdout",
     "output_type": "stream",
     "text": [
      "68976844\n"
     ]
    },
    {
     "data": {
      "text/html": [
       "<div>\n",
       "<table border=\"1\" class=\"dataframe\">\n",
       "  <thead>\n",
       "    <tr style=\"text-align: right;\">\n",
       "      <th></th>\n",
       "      <th>date</th>\n",
       "      <th>udid</th>\n",
       "      <th>operator</th>\n",
       "      <th>state</th>\n",
       "    </tr>\n",
       "  </thead>\n",
       "  <tbody>\n",
       "    <tr>\n",
       "      <th>0</th>\n",
       "      <td>2018-04-15</td>\n",
       "      <td>00000902bb5bea2d8f865e1c6b0ace6abf6725d7</td>\n",
       "      <td>Jio</td>\n",
       "      <td>TAMIL NADU</td>\n",
       "    </tr>\n",
       "    <tr>\n",
       "      <th>1</th>\n",
       "      <td>2018-05-15</td>\n",
       "      <td>00002cd8fd6d3ae94d385102c85d40870430bed3</td>\n",
       "      <td>Vodafone Essar</td>\n",
       "      <td>GUJARAT</td>\n",
       "    </tr>\n",
       "    <tr>\n",
       "      <th>2</th>\n",
       "      <td>2018-05-15</td>\n",
       "      <td>0000c379b9f8c3476e3fb7e86ec0b8ccc3f6b90c</td>\n",
       "      <td>Jio</td>\n",
       "      <td>UTTAR PRADESH</td>\n",
       "    </tr>\n",
       "    <tr>\n",
       "      <th>3</th>\n",
       "      <td>2018-04-15</td>\n",
       "      <td>0001265ed98b8c1ac1f208e68a05ebcd501aca8b</td>\n",
       "      <td>Jio</td>\n",
       "      <td>ASSAM</td>\n",
       "    </tr>\n",
       "    <tr>\n",
       "      <th>4</th>\n",
       "      <td>2018-05-15</td>\n",
       "      <td>0001cbb4b1428ad3f0175532b8c8e2b108f32d08</td>\n",
       "      <td>Jio</td>\n",
       "      <td>KARNATAKA</td>\n",
       "    </tr>\n",
       "  </tbody>\n",
       "</table>\n",
       "</div>"
      ],
      "text/plain": [
       "         date                                      udid        operator  \\\n",
       "0  2018-04-15  00000902bb5bea2d8f865e1c6b0ace6abf6725d7             Jio   \n",
       "1  2018-05-15  00002cd8fd6d3ae94d385102c85d40870430bed3  Vodafone Essar   \n",
       "2  2018-05-15  0000c379b9f8c3476e3fb7e86ec0b8ccc3f6b90c             Jio   \n",
       "3  2018-04-15  0001265ed98b8c1ac1f208e68a05ebcd501aca8b             Jio   \n",
       "4  2018-05-15  0001cbb4b1428ad3f0175532b8c8e2b108f32d08             Jio   \n",
       "\n",
       "           state  \n",
       "0     TAMIL NADU  \n",
       "1        GUJARAT  \n",
       "2  UTTAR PRADESH  \n",
       "3          ASSAM  \n",
       "4      KARNATAKA  "
      ]
     },
     "execution_count": 3,
     "metadata": {},
     "output_type": "execute_result"
    }
   ],
   "source": [
    "#State level\n",
    "data_state = data[['date','udid','operator','state']].drop_duplicates()\n",
    "print data_state.size\n",
    "data_state.head()"
   ]
  },
  {
   "cell_type": "code",
   "execution_count": 20,
   "metadata": {},
   "outputs": [
    {
     "name": "stdout",
     "output_type": "stream",
     "text": [
      "['Jio' 'Vodafone Essar' 'Bharti Airtel' 'Idea']\n",
      "['2018-04-15' '2018-05-15']\n"
     ]
    }
   ],
   "source": [
    "print data_state.operator.unique()\n",
    "print data_state.date.unique()"
   ]
  },
  {
   "cell_type": "code",
   "execution_count": null,
   "metadata": {},
   "outputs": [
    {
     "data": {
      "text/html": [
       "<div>\n",
       "<table border=\"1\" class=\"dataframe\">\n",
       "  <thead>\n",
       "    <tr style=\"text-align: right;\">\n",
       "      <th></th>\n",
       "      <th>date</th>\n",
       "      <th>udid</th>\n",
       "      <th>operator</th>\n",
       "      <th>state</th>\n",
       "    </tr>\n",
       "  </thead>\n",
       "  <tbody>\n",
       "    <tr>\n",
       "      <th>0</th>\n",
       "      <td>Apr</td>\n",
       "      <td>00000902bb5bea2d8f865e1c6b0ace6abf6725d7</td>\n",
       "      <td>1</td>\n",
       "      <td>TAMIL NADU</td>\n",
       "    </tr>\n",
       "    <tr>\n",
       "      <th>1</th>\n",
       "      <td>May</td>\n",
       "      <td>00002cd8fd6d3ae94d385102c85d40870430bed3</td>\n",
       "      <td>2</td>\n",
       "      <td>GUJARAT</td>\n",
       "    </tr>\n",
       "    <tr>\n",
       "      <th>2</th>\n",
       "      <td>May</td>\n",
       "      <td>0000c379b9f8c3476e3fb7e86ec0b8ccc3f6b90c</td>\n",
       "      <td>1</td>\n",
       "      <td>UTTAR PRADESH</td>\n",
       "    </tr>\n",
       "    <tr>\n",
       "      <th>3</th>\n",
       "      <td>Apr</td>\n",
       "      <td>0001265ed98b8c1ac1f208e68a05ebcd501aca8b</td>\n",
       "      <td>1</td>\n",
       "      <td>ASSAM</td>\n",
       "    </tr>\n",
       "    <tr>\n",
       "      <th>4</th>\n",
       "      <td>May</td>\n",
       "      <td>0001cbb4b1428ad3f0175532b8c8e2b108f32d08</td>\n",
       "      <td>1</td>\n",
       "      <td>KARNATAKA</td>\n",
       "    </tr>\n",
       "  </tbody>\n",
       "</table>\n",
       "</div>"
      ],
      "text/plain": [
       "  date                                      udid  operator          state\n",
       "0  Apr  00000902bb5bea2d8f865e1c6b0ace6abf6725d7         1     TAMIL NADU\n",
       "1  May  00002cd8fd6d3ae94d385102c85d40870430bed3         2        GUJARAT\n",
       "2  May  0000c379b9f8c3476e3fb7e86ec0b8ccc3f6b90c         1  UTTAR PRADESH\n",
       "3  Apr  0001265ed98b8c1ac1f208e68a05ebcd501aca8b         1          ASSAM\n",
       "4  May  0001cbb4b1428ad3f0175532b8c8e2b108f32d08         1      KARNATAKA"
      ]
     },
     "execution_count": 4,
     "metadata": {},
     "output_type": "execute_result"
    }
   ],
   "source": [
    "#Replace operators by numbers and dates by months\n",
    "df1 = data_state.replace({'Jio': 1, 'Vodafone Essar': 2, 'Bharti Airtel':3, 'Idea':4})\n",
    "df1 = df1.replace({'2018-04-15': 'Apr', '2018-05-15': 'May'})\n",
    "df1.head()"
   ]
  },
  {
   "cell_type": "code",
   "execution_count": null,
   "metadata": {
    "collapsed": true
   },
   "outputs": [],
   "source": [
    "import pandasql as ps\n",
    "#df1.groupby(['udid','date']).filter(lambda x: len(x) > 1)\n",
    "\n",
    "df1[df1.date == 'Apr'].groupby('udid').filter(lambda g: len(g) > 1).size()\n",
    "#.groupby('udid').size()\n",
    "#.sort_values(ascending=False)\n",
    "\n",
    "q1 = \"\"\"\n",
    "SELECT operator \n",
    "FROM data_state\n",
    "limit 2\n",
    "\"\"\"\n",
    "\n",
    "#print(ps.sqldf(q1, locals()))"
   ]
  },
  {
   "cell_type": "code",
   "execution_count": 24,
   "metadata": {},
   "outputs": [
    {
     "data": {
      "text/html": [
       "<div>\n",
       "<table border=\"1\" class=\"dataframe\">\n",
       "  <thead>\n",
       "    <tr style=\"text-align: right;\">\n",
       "      <th>date</th>\n",
       "      <th>Apr</th>\n",
       "      <th>May</th>\n",
       "    </tr>\n",
       "    <tr>\n",
       "      <th>udid</th>\n",
       "      <th></th>\n",
       "      <th></th>\n",
       "    </tr>\n",
       "  </thead>\n",
       "  <tbody>\n",
       "    <tr>\n",
       "      <th>000001b2f4b9d139ed496267f056516edf833e80</th>\n",
       "      <td>3.0</td>\n",
       "      <td>3.0</td>\n",
       "    </tr>\n",
       "    <tr>\n",
       "      <th>000003fb76b5e01f88dfbb57ce596de197d052cd</th>\n",
       "      <td>2.0</td>\n",
       "      <td>2.0</td>\n",
       "    </tr>\n",
       "    <tr>\n",
       "      <th>00000902bb5bea2d8f865e1c6b0ace6abf6725d7</th>\n",
       "      <td>1.0</td>\n",
       "      <td>1.0</td>\n",
       "    </tr>\n",
       "    <tr>\n",
       "      <th>00000a52170c3d10d43ff77eb03c04dd164996d4</th>\n",
       "      <td>1.0</td>\n",
       "      <td>1.0</td>\n",
       "    </tr>\n",
       "    <tr>\n",
       "      <th>00000a78561f96624d409c0c1b6c297ad308ce08</th>\n",
       "      <td>1.0</td>\n",
       "      <td>1.0</td>\n",
       "    </tr>\n",
       "  </tbody>\n",
       "</table>\n",
       "</div>"
      ],
      "text/plain": [
       "date                                      Apr  May\n",
       "udid                                              \n",
       "000001b2f4b9d139ed496267f056516edf833e80  3.0  3.0\n",
       "000003fb76b5e01f88dfbb57ce596de197d052cd  2.0  2.0\n",
       "00000902bb5bea2d8f865e1c6b0ace6abf6725d7  1.0  1.0\n",
       "00000a52170c3d10d43ff77eb03c04dd164996d4  1.0  1.0\n",
       "00000a78561f96624d409c0c1b6c297ad308ce08  1.0  1.0"
      ]
     },
     "execution_count": 24,
     "metadata": {},
     "output_type": "execute_result"
    }
   ],
   "source": [
    "df = pd.pivot_table(df1,values='operator',index='udid',columns='date')\n",
    "df.head()"
   ]
  },
  {
   "cell_type": "code",
   "execution_count": 26,
   "metadata": {},
   "outputs": [
    {
     "data": {
      "text/html": [
       "<div>\n",
       "<table border=\"1\" class=\"dataframe\">\n",
       "  <thead>\n",
       "    <tr style=\"text-align: right;\">\n",
       "      <th>date</th>\n",
       "      <th>Apr</th>\n",
       "      <th>May</th>\n",
       "    </tr>\n",
       "    <tr>\n",
       "      <th>udid</th>\n",
       "      <th></th>\n",
       "      <th></th>\n",
       "    </tr>\n",
       "  </thead>\n",
       "  <tbody>\n",
       "    <tr>\n",
       "      <th>000001b2f4b9d139ed496267f056516edf833e80</th>\n",
       "      <td>3.0</td>\n",
       "      <td>3.0</td>\n",
       "    </tr>\n",
       "    <tr>\n",
       "      <th>000003fb76b5e01f88dfbb57ce596de197d052cd</th>\n",
       "      <td>2.0</td>\n",
       "      <td>2.0</td>\n",
       "    </tr>\n",
       "    <tr>\n",
       "      <th>000016710f5ebd40631966c55bddff9893e1d52f</th>\n",
       "      <td>4.0</td>\n",
       "      <td>4.0</td>\n",
       "    </tr>\n",
       "    <tr>\n",
       "      <th>00001a76b6c34367585776ee555169435c111f29</th>\n",
       "      <td>4.0</td>\n",
       "      <td>4.0</td>\n",
       "    </tr>\n",
       "    <tr>\n",
       "      <th>00001d617ecfeeaa9e9bc65a3c7503582da7ca6f</th>\n",
       "      <td>2.0</td>\n",
       "      <td>2.0</td>\n",
       "    </tr>\n",
       "  </tbody>\n",
       "</table>\n",
       "</div>"
      ],
      "text/plain": [
       "date                                      Apr  May\n",
       "udid                                              \n",
       "000001b2f4b9d139ed496267f056516edf833e80  3.0  3.0\n",
       "000003fb76b5e01f88dfbb57ce596de197d052cd  2.0  2.0\n",
       "000016710f5ebd40631966c55bddff9893e1d52f  4.0  4.0\n",
       "00001a76b6c34367585776ee555169435c111f29  4.0  4.0\n",
       "00001d617ecfeeaa9e9bc65a3c7503582da7ca6f  2.0  2.0"
      ]
     },
     "execution_count": 26,
     "metadata": {},
     "output_type": "execute_result"
    }
   ],
   "source": [
    "df[df['Apr'] > 1].head()"
   ]
  },
  {
   "cell_type": "code",
   "execution_count": null,
   "metadata": {
    "collapsed": true
   },
   "outputs": [],
   "source": []
  }
 ],
 "metadata": {
  "kernelspec": {
   "display_name": "Python [Root]",
   "language": "python",
   "name": "Python [Root]"
  },
  "language_info": {
   "codemirror_mode": {
    "name": "ipython",
    "version": 2
   },
   "file_extension": ".py",
   "mimetype": "text/x-python",
   "name": "python",
   "nbconvert_exporter": "python",
   "pygments_lexer": "ipython2",
   "version": "2.7.12"
  }
 },
 "nbformat": 4,
 "nbformat_minor": 1
}
